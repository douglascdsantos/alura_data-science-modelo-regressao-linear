{
  "cells": [
    {
      "cell_type": "markdown",
      "metadata": {
        "id": "view-in-github",
        "colab_type": "text"
      },
      "source": [
        "<a href=\"https://colab.research.google.com/github/douglascdsantos/alura_data-science-modelo-regressao-linear/blob/main/Regress%C3%A3o_Linear.ipynb\" target=\"_parent\"><img src=\"https://colab.research.google.com/assets/colab-badge.svg\" alt=\"Open In Colab\"/></a>"
      ]
    },
    {
      "cell_type": "markdown",
      "metadata": {
        "id": "hh57XrWMyhQ2"
      },
      "source": [
        "<h1 style='color: green; font-size: 36px; font-weight: bold;'>Data Science - Regressão Linear</h1>"
      ]
    },
    {
      "cell_type": "markdown",
      "metadata": {
        "id": "bj3ivcyhyhQ6"
      },
      "source": [
        "# <font color='red' style='font-size: 30px;'>Conhecendo o Dataset</font>\n",
        "<hr style='border: 2px solid red;'>"
      ]
    },
    {
      "cell_type": "markdown",
      "metadata": {
        "id": "3twjbyAXyhQ7"
      },
      "source": [
        "## Importando bibliotecas\n",
        "\n",
        "https://matplotlib.org/\n",
        "\n",
        "https://pandas.pydata.org/\n",
        "\n",
        "http://www.numpy.org/"
      ]
    },
    {
      "cell_type": "code",
      "execution_count": 1,
      "metadata": {
        "id": "kW1s0PtoyhQ7"
      },
      "outputs": [],
      "source": [
        "import pandas as pd\n",
        "import numpy as np"
      ]
    },
    {
      "cell_type": "markdown",
      "metadata": {
        "id": "dhuwSG6oyhQ8"
      },
      "source": [
        "## Bibliotecas opcionais\n",
        "\n",
        "https://docs.python.org/3/library/warnings.html"
      ]
    },
    {
      "cell_type": "code",
      "execution_count": 2,
      "metadata": {
        "id": "RbEuit-qyhQ8"
      },
      "outputs": [],
      "source": [
        "dados = pd.read_csv('https://raw.githubusercontent.com/douglascdsantos/alura_data-science-modelo-regressao-linear/main/Consumo_cerveja.csv', sep = ';')"
      ]
    },
    {
      "cell_type": "markdown",
      "metadata": {
        "id": "Fz0WDzSvyhQ8"
      },
      "source": [
        "## O Dataset e o Projeto\n",
        "<hr>\n",
        "\n",
        "### Fonte: https://www.kaggle.com/dongeorge/beer-consumption-sao-paulo\n",
        "\n",
        "### Descrição:\n",
        "<p style='font-size: 18px; line-height: 2; margin: 10px 50px; text-align: justify;'>A cerveja é uma das bebidas mais democráticas e consumidas no mundo. Não sem razão, é perfeito para quase todas as situações, desde o happy hour até grandes festas de casamento.</p>\n",
        "\n",
        "<p style='font-size: 18px; line-height: 2; margin: 10px 50px; text-align: justify;'>O objetivo deste treinamento será estimar um modelo de <b>Machine Learning</b> utilizando a técnica de <b>Regressão Linear</b> para demonstrar os impactos das variáveis disponibilizadas neste dataset sobre o consumo de cerveja (Y). No final do projeto teremos um modelo de previsão para o consumo médio de cerveja segundo os inputs de um conjunto de variáveis (X's).</p>\n",
        "\n",
        "<p style='font-size: 18px; line-height: 2; margin: 10px 50px; text-align: justify;'>Os dados (amostra) foram coletados em São Paulo - Brasil, em uma área universitária, onde existem algumas festas com grupos de alunos de 18 a 28 anos de idade (média).</p>\n",
        "\n",
        "### Dados:\n",
        "<ul style='font-size: 18px; line-height: 2; text-align: justify;'>\n",
        "    <li><b>data</b> - Data</li>\n",
        "    <li><b>temp_media</b> - Temperatura Média (°C)</li>\n",
        "    <li><b>temp_min</b> - Temperatura Mínima (°C)</li>\n",
        "    <li><b>temp_max</b> - Temperatura Máxima (°C)</li>\n",
        "    <li><b>chuva</b> - Precipitação (mm)</li>\n",
        "    <li><b>fds</b> - Final de Semana (1 = Sim; 0 = Não)</li>\n",
        "    <li><b>consumo</b> - Consumo de Cerveja (litros)</li>\n",
        "</ul>"
      ]
    },
    {
      "cell_type": "markdown",
      "metadata": {
        "id": "LyddJbbKyhQ9"
      },
      "source": [
        "## Leitura dos dados"
      ]
    },
    {
      "cell_type": "code",
      "execution_count": null,
      "metadata": {
        "id": "k5SfsZWmyhQ9"
      },
      "outputs": [],
      "source": []
    },
    {
      "cell_type": "markdown",
      "metadata": {
        "id": "_tPbzAPGyhQ9"
      },
      "source": [
        "## Visualizar os dados"
      ]
    },
    {
      "cell_type": "code",
      "execution_count": 3,
      "metadata": {
        "scrolled": true,
        "colab": {
          "base_uri": "https://localhost:8080/",
          "height": 206
        },
        "id": "QsvfFl0kyhQ-",
        "outputId": "b04de610-c764-4996-9df4-e168fd10e149"
      },
      "outputs": [
        {
          "output_type": "execute_result",
          "data": {
            "text/plain": [
              "         data  temp_media  temp_min  temp_max  chuva  fds  consumo\n",
              "0  01/01/2015       27.30      23.9      32.5    0.0    0    25461\n",
              "1  02/01/2015       27.02      24.5      33.5    0.0    0    28972\n",
              "2  03/01/2015       24.82      22.4      29.9    0.0    1    30814\n",
              "3  04/01/2015       23.98      21.5      28.6    1.2    1    29799\n",
              "4  05/01/2015       23.82      21.0      28.3    0.0    0    28900"
            ],
            "text/html": [
              "\n",
              "  <div id=\"df-aacb4ee4-14f7-48f2-8c55-213dff0283bd\" class=\"colab-df-container\">\n",
              "    <div>\n",
              "<style scoped>\n",
              "    .dataframe tbody tr th:only-of-type {\n",
              "        vertical-align: middle;\n",
              "    }\n",
              "\n",
              "    .dataframe tbody tr th {\n",
              "        vertical-align: top;\n",
              "    }\n",
              "\n",
              "    .dataframe thead th {\n",
              "        text-align: right;\n",
              "    }\n",
              "</style>\n",
              "<table border=\"1\" class=\"dataframe\">\n",
              "  <thead>\n",
              "    <tr style=\"text-align: right;\">\n",
              "      <th></th>\n",
              "      <th>data</th>\n",
              "      <th>temp_media</th>\n",
              "      <th>temp_min</th>\n",
              "      <th>temp_max</th>\n",
              "      <th>chuva</th>\n",
              "      <th>fds</th>\n",
              "      <th>consumo</th>\n",
              "    </tr>\n",
              "  </thead>\n",
              "  <tbody>\n",
              "    <tr>\n",
              "      <th>0</th>\n",
              "      <td>01/01/2015</td>\n",
              "      <td>27.30</td>\n",
              "      <td>23.9</td>\n",
              "      <td>32.5</td>\n",
              "      <td>0.0</td>\n",
              "      <td>0</td>\n",
              "      <td>25461</td>\n",
              "    </tr>\n",
              "    <tr>\n",
              "      <th>1</th>\n",
              "      <td>02/01/2015</td>\n",
              "      <td>27.02</td>\n",
              "      <td>24.5</td>\n",
              "      <td>33.5</td>\n",
              "      <td>0.0</td>\n",
              "      <td>0</td>\n",
              "      <td>28972</td>\n",
              "    </tr>\n",
              "    <tr>\n",
              "      <th>2</th>\n",
              "      <td>03/01/2015</td>\n",
              "      <td>24.82</td>\n",
              "      <td>22.4</td>\n",
              "      <td>29.9</td>\n",
              "      <td>0.0</td>\n",
              "      <td>1</td>\n",
              "      <td>30814</td>\n",
              "    </tr>\n",
              "    <tr>\n",
              "      <th>3</th>\n",
              "      <td>04/01/2015</td>\n",
              "      <td>23.98</td>\n",
              "      <td>21.5</td>\n",
              "      <td>28.6</td>\n",
              "      <td>1.2</td>\n",
              "      <td>1</td>\n",
              "      <td>29799</td>\n",
              "    </tr>\n",
              "    <tr>\n",
              "      <th>4</th>\n",
              "      <td>05/01/2015</td>\n",
              "      <td>23.82</td>\n",
              "      <td>21.0</td>\n",
              "      <td>28.3</td>\n",
              "      <td>0.0</td>\n",
              "      <td>0</td>\n",
              "      <td>28900</td>\n",
              "    </tr>\n",
              "  </tbody>\n",
              "</table>\n",
              "</div>\n",
              "    <div class=\"colab-df-buttons\">\n",
              "\n",
              "  <div class=\"colab-df-container\">\n",
              "    <button class=\"colab-df-convert\" onclick=\"convertToInteractive('df-aacb4ee4-14f7-48f2-8c55-213dff0283bd')\"\n",
              "            title=\"Convert this dataframe to an interactive table.\"\n",
              "            style=\"display:none;\">\n",
              "\n",
              "  <svg xmlns=\"http://www.w3.org/2000/svg\" height=\"24px\" viewBox=\"0 -960 960 960\">\n",
              "    <path d=\"M120-120v-720h720v720H120Zm60-500h600v-160H180v160Zm220 220h160v-160H400v160Zm0 220h160v-160H400v160ZM180-400h160v-160H180v160Zm440 0h160v-160H620v160ZM180-180h160v-160H180v160Zm440 0h160v-160H620v160Z\"/>\n",
              "  </svg>\n",
              "    </button>\n",
              "\n",
              "  <style>\n",
              "    .colab-df-container {\n",
              "      display:flex;\n",
              "      gap: 12px;\n",
              "    }\n",
              "\n",
              "    .colab-df-convert {\n",
              "      background-color: #E8F0FE;\n",
              "      border: none;\n",
              "      border-radius: 50%;\n",
              "      cursor: pointer;\n",
              "      display: none;\n",
              "      fill: #1967D2;\n",
              "      height: 32px;\n",
              "      padding: 0 0 0 0;\n",
              "      width: 32px;\n",
              "    }\n",
              "\n",
              "    .colab-df-convert:hover {\n",
              "      background-color: #E2EBFA;\n",
              "      box-shadow: 0px 1px 2px rgba(60, 64, 67, 0.3), 0px 1px 3px 1px rgba(60, 64, 67, 0.15);\n",
              "      fill: #174EA6;\n",
              "    }\n",
              "\n",
              "    .colab-df-buttons div {\n",
              "      margin-bottom: 4px;\n",
              "    }\n",
              "\n",
              "    [theme=dark] .colab-df-convert {\n",
              "      background-color: #3B4455;\n",
              "      fill: #D2E3FC;\n",
              "    }\n",
              "\n",
              "    [theme=dark] .colab-df-convert:hover {\n",
              "      background-color: #434B5C;\n",
              "      box-shadow: 0px 1px 3px 1px rgba(0, 0, 0, 0.15);\n",
              "      filter: drop-shadow(0px 1px 2px rgba(0, 0, 0, 0.3));\n",
              "      fill: #FFFFFF;\n",
              "    }\n",
              "  </style>\n",
              "\n",
              "    <script>\n",
              "      const buttonEl =\n",
              "        document.querySelector('#df-aacb4ee4-14f7-48f2-8c55-213dff0283bd button.colab-df-convert');\n",
              "      buttonEl.style.display =\n",
              "        google.colab.kernel.accessAllowed ? 'block' : 'none';\n",
              "\n",
              "      async function convertToInteractive(key) {\n",
              "        const element = document.querySelector('#df-aacb4ee4-14f7-48f2-8c55-213dff0283bd');\n",
              "        const dataTable =\n",
              "          await google.colab.kernel.invokeFunction('convertToInteractive',\n",
              "                                                    [key], {});\n",
              "        if (!dataTable) return;\n",
              "\n",
              "        const docLinkHtml = 'Like what you see? Visit the ' +\n",
              "          '<a target=\"_blank\" href=https://colab.research.google.com/notebooks/data_table.ipynb>data table notebook</a>'\n",
              "          + ' to learn more about interactive tables.';\n",
              "        element.innerHTML = '';\n",
              "        dataTable['output_type'] = 'display_data';\n",
              "        await google.colab.output.renderOutput(dataTable, element);\n",
              "        const docLink = document.createElement('div');\n",
              "        docLink.innerHTML = docLinkHtml;\n",
              "        element.appendChild(docLink);\n",
              "      }\n",
              "    </script>\n",
              "  </div>\n",
              "\n",
              "\n",
              "<div id=\"df-35f9b83b-17f7-4b95-a650-8f261cb8645a\">\n",
              "  <button class=\"colab-df-quickchart\" onclick=\"quickchart('df-35f9b83b-17f7-4b95-a650-8f261cb8645a')\"\n",
              "            title=\"Suggest charts.\"\n",
              "            style=\"display:none;\">\n",
              "\n",
              "<svg xmlns=\"http://www.w3.org/2000/svg\" height=\"24px\"viewBox=\"0 0 24 24\"\n",
              "     width=\"24px\">\n",
              "    <g>\n",
              "        <path d=\"M19 3H5c-1.1 0-2 .9-2 2v14c0 1.1.9 2 2 2h14c1.1 0 2-.9 2-2V5c0-1.1-.9-2-2-2zM9 17H7v-7h2v7zm4 0h-2V7h2v10zm4 0h-2v-4h2v4z\"/>\n",
              "    </g>\n",
              "</svg>\n",
              "  </button>\n",
              "\n",
              "<style>\n",
              "  .colab-df-quickchart {\n",
              "      --bg-color: #E8F0FE;\n",
              "      --fill-color: #1967D2;\n",
              "      --hover-bg-color: #E2EBFA;\n",
              "      --hover-fill-color: #174EA6;\n",
              "      --disabled-fill-color: #AAA;\n",
              "      --disabled-bg-color: #DDD;\n",
              "  }\n",
              "\n",
              "  [theme=dark] .colab-df-quickchart {\n",
              "      --bg-color: #3B4455;\n",
              "      --fill-color: #D2E3FC;\n",
              "      --hover-bg-color: #434B5C;\n",
              "      --hover-fill-color: #FFFFFF;\n",
              "      --disabled-bg-color: #3B4455;\n",
              "      --disabled-fill-color: #666;\n",
              "  }\n",
              "\n",
              "  .colab-df-quickchart {\n",
              "    background-color: var(--bg-color);\n",
              "    border: none;\n",
              "    border-radius: 50%;\n",
              "    cursor: pointer;\n",
              "    display: none;\n",
              "    fill: var(--fill-color);\n",
              "    height: 32px;\n",
              "    padding: 0;\n",
              "    width: 32px;\n",
              "  }\n",
              "\n",
              "  .colab-df-quickchart:hover {\n",
              "    background-color: var(--hover-bg-color);\n",
              "    box-shadow: 0 1px 2px rgba(60, 64, 67, 0.3), 0 1px 3px 1px rgba(60, 64, 67, 0.15);\n",
              "    fill: var(--button-hover-fill-color);\n",
              "  }\n",
              "\n",
              "  .colab-df-quickchart-complete:disabled,\n",
              "  .colab-df-quickchart-complete:disabled:hover {\n",
              "    background-color: var(--disabled-bg-color);\n",
              "    fill: var(--disabled-fill-color);\n",
              "    box-shadow: none;\n",
              "  }\n",
              "\n",
              "  .colab-df-spinner {\n",
              "    border: 2px solid var(--fill-color);\n",
              "    border-color: transparent;\n",
              "    border-bottom-color: var(--fill-color);\n",
              "    animation:\n",
              "      spin 1s steps(1) infinite;\n",
              "  }\n",
              "\n",
              "  @keyframes spin {\n",
              "    0% {\n",
              "      border-color: transparent;\n",
              "      border-bottom-color: var(--fill-color);\n",
              "      border-left-color: var(--fill-color);\n",
              "    }\n",
              "    20% {\n",
              "      border-color: transparent;\n",
              "      border-left-color: var(--fill-color);\n",
              "      border-top-color: var(--fill-color);\n",
              "    }\n",
              "    30% {\n",
              "      border-color: transparent;\n",
              "      border-left-color: var(--fill-color);\n",
              "      border-top-color: var(--fill-color);\n",
              "      border-right-color: var(--fill-color);\n",
              "    }\n",
              "    40% {\n",
              "      border-color: transparent;\n",
              "      border-right-color: var(--fill-color);\n",
              "      border-top-color: var(--fill-color);\n",
              "    }\n",
              "    60% {\n",
              "      border-color: transparent;\n",
              "      border-right-color: var(--fill-color);\n",
              "    }\n",
              "    80% {\n",
              "      border-color: transparent;\n",
              "      border-right-color: var(--fill-color);\n",
              "      border-bottom-color: var(--fill-color);\n",
              "    }\n",
              "    90% {\n",
              "      border-color: transparent;\n",
              "      border-bottom-color: var(--fill-color);\n",
              "    }\n",
              "  }\n",
              "</style>\n",
              "\n",
              "  <script>\n",
              "    async function quickchart(key) {\n",
              "      const quickchartButtonEl =\n",
              "        document.querySelector('#' + key + ' button');\n",
              "      quickchartButtonEl.disabled = true;  // To prevent multiple clicks.\n",
              "      quickchartButtonEl.classList.add('colab-df-spinner');\n",
              "      try {\n",
              "        const charts = await google.colab.kernel.invokeFunction(\n",
              "            'suggestCharts', [key], {});\n",
              "      } catch (error) {\n",
              "        console.error('Error during call to suggestCharts:', error);\n",
              "      }\n",
              "      quickchartButtonEl.classList.remove('colab-df-spinner');\n",
              "      quickchartButtonEl.classList.add('colab-df-quickchart-complete');\n",
              "    }\n",
              "    (() => {\n",
              "      let quickchartButtonEl =\n",
              "        document.querySelector('#df-35f9b83b-17f7-4b95-a650-8f261cb8645a button');\n",
              "      quickchartButtonEl.style.display =\n",
              "        google.colab.kernel.accessAllowed ? 'block' : 'none';\n",
              "    })();\n",
              "  </script>\n",
              "</div>\n",
              "    </div>\n",
              "  </div>\n"
            ]
          },
          "metadata": {},
          "execution_count": 3
        }
      ],
      "source": [
        "dados.head()"
      ]
    },
    {
      "cell_type": "markdown",
      "metadata": {
        "id": "dc7Eex7yyhQ-"
      },
      "source": [
        "## Verificando o tamanho do dataset"
      ]
    },
    {
      "cell_type": "code",
      "execution_count": 4,
      "metadata": {
        "colab": {
          "base_uri": "https://localhost:8080/"
        },
        "id": "KgLI07G-yhQ-",
        "outputId": "ef9fbbdc-36c0-4934-b907-c94912fdcb46"
      },
      "outputs": [
        {
          "output_type": "execute_result",
          "data": {
            "text/plain": [
              "(365, 7)"
            ]
          },
          "metadata": {},
          "execution_count": 4
        }
      ],
      "source": [
        "dados.shape"
      ]
    },
    {
      "cell_type": "markdown",
      "metadata": {
        "id": "jBrvrX2syhQ-"
      },
      "source": [
        "# <font color='red' style='font-size: 30px;'>Análises Preliminares</font>\n",
        "<hr style='border: 2px solid red;'>"
      ]
    },
    {
      "cell_type": "markdown",
      "metadata": {
        "id": "4J7BlHJEyhQ-"
      },
      "source": [
        "## Estatísticas descritivas"
      ]
    },
    {
      "cell_type": "code",
      "execution_count": 5,
      "metadata": {
        "colab": {
          "base_uri": "https://localhost:8080/",
          "height": 300
        },
        "id": "fK2KClJFyhQ-",
        "outputId": "a674bb2f-c027-4233-fdc2-2e015df4e77f"
      },
      "outputs": [
        {
          "output_type": "execute_result",
          "data": {
            "text/plain": [
              "       temp_media    temp_min    temp_max       chuva         fds  \\\n",
              "count  365.000000  365.000000  365.000000  365.000000  365.000000   \n",
              "mean    21.226356   17.461370   26.611507    5.196712    0.284932   \n",
              "std      3.180108    2.826185    4.317366   12.417844    0.452001   \n",
              "min     12.900000   10.600000   14.500000    0.000000    0.000000   \n",
              "25%     19.020000   15.300000   23.800000    0.000000    0.000000   \n",
              "50%     21.380000   17.900000   26.900000    0.000000    0.000000   \n",
              "75%     23.280000   19.600000   29.400000    3.200000    1.000000   \n",
              "max     28.860000   24.500000   36.500000   94.800000    1.000000   \n",
              "\n",
              "            consumo  \n",
              "count    365.000000  \n",
              "mean   25401.367123  \n",
              "std     4399.142703  \n",
              "min    14343.000000  \n",
              "25%    22008.000000  \n",
              "50%    24867.000000  \n",
              "75%    28631.000000  \n",
              "max    37937.000000  "
            ],
            "text/html": [
              "\n",
              "  <div id=\"df-80d1280b-6e9f-4b35-9804-652c6cf17798\" class=\"colab-df-container\">\n",
              "    <div>\n",
              "<style scoped>\n",
              "    .dataframe tbody tr th:only-of-type {\n",
              "        vertical-align: middle;\n",
              "    }\n",
              "\n",
              "    .dataframe tbody tr th {\n",
              "        vertical-align: top;\n",
              "    }\n",
              "\n",
              "    .dataframe thead th {\n",
              "        text-align: right;\n",
              "    }\n",
              "</style>\n",
              "<table border=\"1\" class=\"dataframe\">\n",
              "  <thead>\n",
              "    <tr style=\"text-align: right;\">\n",
              "      <th></th>\n",
              "      <th>temp_media</th>\n",
              "      <th>temp_min</th>\n",
              "      <th>temp_max</th>\n",
              "      <th>chuva</th>\n",
              "      <th>fds</th>\n",
              "      <th>consumo</th>\n",
              "    </tr>\n",
              "  </thead>\n",
              "  <tbody>\n",
              "    <tr>\n",
              "      <th>count</th>\n",
              "      <td>365.000000</td>\n",
              "      <td>365.000000</td>\n",
              "      <td>365.000000</td>\n",
              "      <td>365.000000</td>\n",
              "      <td>365.000000</td>\n",
              "      <td>365.000000</td>\n",
              "    </tr>\n",
              "    <tr>\n",
              "      <th>mean</th>\n",
              "      <td>21.226356</td>\n",
              "      <td>17.461370</td>\n",
              "      <td>26.611507</td>\n",
              "      <td>5.196712</td>\n",
              "      <td>0.284932</td>\n",
              "      <td>25401.367123</td>\n",
              "    </tr>\n",
              "    <tr>\n",
              "      <th>std</th>\n",
              "      <td>3.180108</td>\n",
              "      <td>2.826185</td>\n",
              "      <td>4.317366</td>\n",
              "      <td>12.417844</td>\n",
              "      <td>0.452001</td>\n",
              "      <td>4399.142703</td>\n",
              "    </tr>\n",
              "    <tr>\n",
              "      <th>min</th>\n",
              "      <td>12.900000</td>\n",
              "      <td>10.600000</td>\n",
              "      <td>14.500000</td>\n",
              "      <td>0.000000</td>\n",
              "      <td>0.000000</td>\n",
              "      <td>14343.000000</td>\n",
              "    </tr>\n",
              "    <tr>\n",
              "      <th>25%</th>\n",
              "      <td>19.020000</td>\n",
              "      <td>15.300000</td>\n",
              "      <td>23.800000</td>\n",
              "      <td>0.000000</td>\n",
              "      <td>0.000000</td>\n",
              "      <td>22008.000000</td>\n",
              "    </tr>\n",
              "    <tr>\n",
              "      <th>50%</th>\n",
              "      <td>21.380000</td>\n",
              "      <td>17.900000</td>\n",
              "      <td>26.900000</td>\n",
              "      <td>0.000000</td>\n",
              "      <td>0.000000</td>\n",
              "      <td>24867.000000</td>\n",
              "    </tr>\n",
              "    <tr>\n",
              "      <th>75%</th>\n",
              "      <td>23.280000</td>\n",
              "      <td>19.600000</td>\n",
              "      <td>29.400000</td>\n",
              "      <td>3.200000</td>\n",
              "      <td>1.000000</td>\n",
              "      <td>28631.000000</td>\n",
              "    </tr>\n",
              "    <tr>\n",
              "      <th>max</th>\n",
              "      <td>28.860000</td>\n",
              "      <td>24.500000</td>\n",
              "      <td>36.500000</td>\n",
              "      <td>94.800000</td>\n",
              "      <td>1.000000</td>\n",
              "      <td>37937.000000</td>\n",
              "    </tr>\n",
              "  </tbody>\n",
              "</table>\n",
              "</div>\n",
              "    <div class=\"colab-df-buttons\">\n",
              "\n",
              "  <div class=\"colab-df-container\">\n",
              "    <button class=\"colab-df-convert\" onclick=\"convertToInteractive('df-80d1280b-6e9f-4b35-9804-652c6cf17798')\"\n",
              "            title=\"Convert this dataframe to an interactive table.\"\n",
              "            style=\"display:none;\">\n",
              "\n",
              "  <svg xmlns=\"http://www.w3.org/2000/svg\" height=\"24px\" viewBox=\"0 -960 960 960\">\n",
              "    <path d=\"M120-120v-720h720v720H120Zm60-500h600v-160H180v160Zm220 220h160v-160H400v160Zm0 220h160v-160H400v160ZM180-400h160v-160H180v160Zm440 0h160v-160H620v160ZM180-180h160v-160H180v160Zm440 0h160v-160H620v160Z\"/>\n",
              "  </svg>\n",
              "    </button>\n",
              "\n",
              "  <style>\n",
              "    .colab-df-container {\n",
              "      display:flex;\n",
              "      gap: 12px;\n",
              "    }\n",
              "\n",
              "    .colab-df-convert {\n",
              "      background-color: #E8F0FE;\n",
              "      border: none;\n",
              "      border-radius: 50%;\n",
              "      cursor: pointer;\n",
              "      display: none;\n",
              "      fill: #1967D2;\n",
              "      height: 32px;\n",
              "      padding: 0 0 0 0;\n",
              "      width: 32px;\n",
              "    }\n",
              "\n",
              "    .colab-df-convert:hover {\n",
              "      background-color: #E2EBFA;\n",
              "      box-shadow: 0px 1px 2px rgba(60, 64, 67, 0.3), 0px 1px 3px 1px rgba(60, 64, 67, 0.15);\n",
              "      fill: #174EA6;\n",
              "    }\n",
              "\n",
              "    .colab-df-buttons div {\n",
              "      margin-bottom: 4px;\n",
              "    }\n",
              "\n",
              "    [theme=dark] .colab-df-convert {\n",
              "      background-color: #3B4455;\n",
              "      fill: #D2E3FC;\n",
              "    }\n",
              "\n",
              "    [theme=dark] .colab-df-convert:hover {\n",
              "      background-color: #434B5C;\n",
              "      box-shadow: 0px 1px 3px 1px rgba(0, 0, 0, 0.15);\n",
              "      filter: drop-shadow(0px 1px 2px rgba(0, 0, 0, 0.3));\n",
              "      fill: #FFFFFF;\n",
              "    }\n",
              "  </style>\n",
              "\n",
              "    <script>\n",
              "      const buttonEl =\n",
              "        document.querySelector('#df-80d1280b-6e9f-4b35-9804-652c6cf17798 button.colab-df-convert');\n",
              "      buttonEl.style.display =\n",
              "        google.colab.kernel.accessAllowed ? 'block' : 'none';\n",
              "\n",
              "      async function convertToInteractive(key) {\n",
              "        const element = document.querySelector('#df-80d1280b-6e9f-4b35-9804-652c6cf17798');\n",
              "        const dataTable =\n",
              "          await google.colab.kernel.invokeFunction('convertToInteractive',\n",
              "                                                    [key], {});\n",
              "        if (!dataTable) return;\n",
              "\n",
              "        const docLinkHtml = 'Like what you see? Visit the ' +\n",
              "          '<a target=\"_blank\" href=https://colab.research.google.com/notebooks/data_table.ipynb>data table notebook</a>'\n",
              "          + ' to learn more about interactive tables.';\n",
              "        element.innerHTML = '';\n",
              "        dataTable['output_type'] = 'display_data';\n",
              "        await google.colab.output.renderOutput(dataTable, element);\n",
              "        const docLink = document.createElement('div');\n",
              "        docLink.innerHTML = docLinkHtml;\n",
              "        element.appendChild(docLink);\n",
              "      }\n",
              "    </script>\n",
              "  </div>\n",
              "\n",
              "\n",
              "<div id=\"df-d90bf9a0-52a4-48cc-9ff5-d79b87d718cd\">\n",
              "  <button class=\"colab-df-quickchart\" onclick=\"quickchart('df-d90bf9a0-52a4-48cc-9ff5-d79b87d718cd')\"\n",
              "            title=\"Suggest charts.\"\n",
              "            style=\"display:none;\">\n",
              "\n",
              "<svg xmlns=\"http://www.w3.org/2000/svg\" height=\"24px\"viewBox=\"0 0 24 24\"\n",
              "     width=\"24px\">\n",
              "    <g>\n",
              "        <path d=\"M19 3H5c-1.1 0-2 .9-2 2v14c0 1.1.9 2 2 2h14c1.1 0 2-.9 2-2V5c0-1.1-.9-2-2-2zM9 17H7v-7h2v7zm4 0h-2V7h2v10zm4 0h-2v-4h2v4z\"/>\n",
              "    </g>\n",
              "</svg>\n",
              "  </button>\n",
              "\n",
              "<style>\n",
              "  .colab-df-quickchart {\n",
              "      --bg-color: #E8F0FE;\n",
              "      --fill-color: #1967D2;\n",
              "      --hover-bg-color: #E2EBFA;\n",
              "      --hover-fill-color: #174EA6;\n",
              "      --disabled-fill-color: #AAA;\n",
              "      --disabled-bg-color: #DDD;\n",
              "  }\n",
              "\n",
              "  [theme=dark] .colab-df-quickchart {\n",
              "      --bg-color: #3B4455;\n",
              "      --fill-color: #D2E3FC;\n",
              "      --hover-bg-color: #434B5C;\n",
              "      --hover-fill-color: #FFFFFF;\n",
              "      --disabled-bg-color: #3B4455;\n",
              "      --disabled-fill-color: #666;\n",
              "  }\n",
              "\n",
              "  .colab-df-quickchart {\n",
              "    background-color: var(--bg-color);\n",
              "    border: none;\n",
              "    border-radius: 50%;\n",
              "    cursor: pointer;\n",
              "    display: none;\n",
              "    fill: var(--fill-color);\n",
              "    height: 32px;\n",
              "    padding: 0;\n",
              "    width: 32px;\n",
              "  }\n",
              "\n",
              "  .colab-df-quickchart:hover {\n",
              "    background-color: var(--hover-bg-color);\n",
              "    box-shadow: 0 1px 2px rgba(60, 64, 67, 0.3), 0 1px 3px 1px rgba(60, 64, 67, 0.15);\n",
              "    fill: var(--button-hover-fill-color);\n",
              "  }\n",
              "\n",
              "  .colab-df-quickchart-complete:disabled,\n",
              "  .colab-df-quickchart-complete:disabled:hover {\n",
              "    background-color: var(--disabled-bg-color);\n",
              "    fill: var(--disabled-fill-color);\n",
              "    box-shadow: none;\n",
              "  }\n",
              "\n",
              "  .colab-df-spinner {\n",
              "    border: 2px solid var(--fill-color);\n",
              "    border-color: transparent;\n",
              "    border-bottom-color: var(--fill-color);\n",
              "    animation:\n",
              "      spin 1s steps(1) infinite;\n",
              "  }\n",
              "\n",
              "  @keyframes spin {\n",
              "    0% {\n",
              "      border-color: transparent;\n",
              "      border-bottom-color: var(--fill-color);\n",
              "      border-left-color: var(--fill-color);\n",
              "    }\n",
              "    20% {\n",
              "      border-color: transparent;\n",
              "      border-left-color: var(--fill-color);\n",
              "      border-top-color: var(--fill-color);\n",
              "    }\n",
              "    30% {\n",
              "      border-color: transparent;\n",
              "      border-left-color: var(--fill-color);\n",
              "      border-top-color: var(--fill-color);\n",
              "      border-right-color: var(--fill-color);\n",
              "    }\n",
              "    40% {\n",
              "      border-color: transparent;\n",
              "      border-right-color: var(--fill-color);\n",
              "      border-top-color: var(--fill-color);\n",
              "    }\n",
              "    60% {\n",
              "      border-color: transparent;\n",
              "      border-right-color: var(--fill-color);\n",
              "    }\n",
              "    80% {\n",
              "      border-color: transparent;\n",
              "      border-right-color: var(--fill-color);\n",
              "      border-bottom-color: var(--fill-color);\n",
              "    }\n",
              "    90% {\n",
              "      border-color: transparent;\n",
              "      border-bottom-color: var(--fill-color);\n",
              "    }\n",
              "  }\n",
              "</style>\n",
              "\n",
              "  <script>\n",
              "    async function quickchart(key) {\n",
              "      const quickchartButtonEl =\n",
              "        document.querySelector('#' + key + ' button');\n",
              "      quickchartButtonEl.disabled = true;  // To prevent multiple clicks.\n",
              "      quickchartButtonEl.classList.add('colab-df-spinner');\n",
              "      try {\n",
              "        const charts = await google.colab.kernel.invokeFunction(\n",
              "            'suggestCharts', [key], {});\n",
              "      } catch (error) {\n",
              "        console.error('Error during call to suggestCharts:', error);\n",
              "      }\n",
              "      quickchartButtonEl.classList.remove('colab-df-spinner');\n",
              "      quickchartButtonEl.classList.add('colab-df-quickchart-complete');\n",
              "    }\n",
              "    (() => {\n",
              "      let quickchartButtonEl =\n",
              "        document.querySelector('#df-d90bf9a0-52a4-48cc-9ff5-d79b87d718cd button');\n",
              "      quickchartButtonEl.style.display =\n",
              "        google.colab.kernel.accessAllowed ? 'block' : 'none';\n",
              "    })();\n",
              "  </script>\n",
              "</div>\n",
              "    </div>\n",
              "  </div>\n"
            ]
          },
          "metadata": {},
          "execution_count": 5
        }
      ],
      "source": [
        "dados.describe()"
      ]
    },
    {
      "cell_type": "markdown",
      "metadata": {
        "id": "FVBX4u9-yhQ-"
      },
      "source": [
        "## Matriz de correlação\n",
        "\n",
        "<p style='font-size: 18px; line-height: 2; margin: 10px 50px; text-align: justify;'>O <b>coeficiente de correlação</b> é uma medida de associação linear entre duas variáveis e situa-se entre <b>-1</b> e <b>+1</b> sendo que <b>-1</b> indica associação negativa perfeita e <b>+1</b> indica associação positiva perfeita.</p>"
      ]
    },
    {
      "cell_type": "code",
      "execution_count": 8,
      "metadata": {
        "colab": {
          "base_uri": "https://localhost:8080/",
          "height": 292
        },
        "id": "PSJpR7bqyhQ-",
        "outputId": "c3d4b6e7-8e03-4756-df77-1d129802be2f"
      },
      "outputs": [
        {
          "output_type": "stream",
          "name": "stderr",
          "text": [
            "<ipython-input-8-22ad10769b43>:1: FutureWarning: The default value of numeric_only in DataFrame.corr is deprecated. In a future version, it will default to False. Select only valid columns or specify the value of numeric_only to silence this warning.\n",
            "  dados.corr().round(2)\n"
          ]
        },
        {
          "output_type": "execute_result",
          "data": {
            "text/plain": [
              "            temp_media  temp_min  temp_max  chuva   fds  consumo\n",
              "temp_media        1.00      0.86      0.92   0.02 -0.05     0.57\n",
              "temp_min          0.86      1.00      0.67   0.10 -0.06     0.39\n",
              "temp_max          0.92      0.67      1.00  -0.05 -0.04     0.64\n",
              "chuva             0.02      0.10     -0.05   1.00  0.00    -0.19\n",
              "fds              -0.05     -0.06     -0.04   0.00  1.00     0.51\n",
              "consumo           0.57      0.39      0.64  -0.19  0.51     1.00"
            ],
            "text/html": [
              "\n",
              "  <div id=\"df-45452416-4ff3-49c9-8255-2b4fb1e7d2e9\" class=\"colab-df-container\">\n",
              "    <div>\n",
              "<style scoped>\n",
              "    .dataframe tbody tr th:only-of-type {\n",
              "        vertical-align: middle;\n",
              "    }\n",
              "\n",
              "    .dataframe tbody tr th {\n",
              "        vertical-align: top;\n",
              "    }\n",
              "\n",
              "    .dataframe thead th {\n",
              "        text-align: right;\n",
              "    }\n",
              "</style>\n",
              "<table border=\"1\" class=\"dataframe\">\n",
              "  <thead>\n",
              "    <tr style=\"text-align: right;\">\n",
              "      <th></th>\n",
              "      <th>temp_media</th>\n",
              "      <th>temp_min</th>\n",
              "      <th>temp_max</th>\n",
              "      <th>chuva</th>\n",
              "      <th>fds</th>\n",
              "      <th>consumo</th>\n",
              "    </tr>\n",
              "  </thead>\n",
              "  <tbody>\n",
              "    <tr>\n",
              "      <th>temp_media</th>\n",
              "      <td>1.00</td>\n",
              "      <td>0.86</td>\n",
              "      <td>0.92</td>\n",
              "      <td>0.02</td>\n",
              "      <td>-0.05</td>\n",
              "      <td>0.57</td>\n",
              "    </tr>\n",
              "    <tr>\n",
              "      <th>temp_min</th>\n",
              "      <td>0.86</td>\n",
              "      <td>1.00</td>\n",
              "      <td>0.67</td>\n",
              "      <td>0.10</td>\n",
              "      <td>-0.06</td>\n",
              "      <td>0.39</td>\n",
              "    </tr>\n",
              "    <tr>\n",
              "      <th>temp_max</th>\n",
              "      <td>0.92</td>\n",
              "      <td>0.67</td>\n",
              "      <td>1.00</td>\n",
              "      <td>-0.05</td>\n",
              "      <td>-0.04</td>\n",
              "      <td>0.64</td>\n",
              "    </tr>\n",
              "    <tr>\n",
              "      <th>chuva</th>\n",
              "      <td>0.02</td>\n",
              "      <td>0.10</td>\n",
              "      <td>-0.05</td>\n",
              "      <td>1.00</td>\n",
              "      <td>0.00</td>\n",
              "      <td>-0.19</td>\n",
              "    </tr>\n",
              "    <tr>\n",
              "      <th>fds</th>\n",
              "      <td>-0.05</td>\n",
              "      <td>-0.06</td>\n",
              "      <td>-0.04</td>\n",
              "      <td>0.00</td>\n",
              "      <td>1.00</td>\n",
              "      <td>0.51</td>\n",
              "    </tr>\n",
              "    <tr>\n",
              "      <th>consumo</th>\n",
              "      <td>0.57</td>\n",
              "      <td>0.39</td>\n",
              "      <td>0.64</td>\n",
              "      <td>-0.19</td>\n",
              "      <td>0.51</td>\n",
              "      <td>1.00</td>\n",
              "    </tr>\n",
              "  </tbody>\n",
              "</table>\n",
              "</div>\n",
              "    <div class=\"colab-df-buttons\">\n",
              "\n",
              "  <div class=\"colab-df-container\">\n",
              "    <button class=\"colab-df-convert\" onclick=\"convertToInteractive('df-45452416-4ff3-49c9-8255-2b4fb1e7d2e9')\"\n",
              "            title=\"Convert this dataframe to an interactive table.\"\n",
              "            style=\"display:none;\">\n",
              "\n",
              "  <svg xmlns=\"http://www.w3.org/2000/svg\" height=\"24px\" viewBox=\"0 -960 960 960\">\n",
              "    <path d=\"M120-120v-720h720v720H120Zm60-500h600v-160H180v160Zm220 220h160v-160H400v160Zm0 220h160v-160H400v160ZM180-400h160v-160H180v160Zm440 0h160v-160H620v160ZM180-180h160v-160H180v160Zm440 0h160v-160H620v160Z\"/>\n",
              "  </svg>\n",
              "    </button>\n",
              "\n",
              "  <style>\n",
              "    .colab-df-container {\n",
              "      display:flex;\n",
              "      gap: 12px;\n",
              "    }\n",
              "\n",
              "    .colab-df-convert {\n",
              "      background-color: #E8F0FE;\n",
              "      border: none;\n",
              "      border-radius: 50%;\n",
              "      cursor: pointer;\n",
              "      display: none;\n",
              "      fill: #1967D2;\n",
              "      height: 32px;\n",
              "      padding: 0 0 0 0;\n",
              "      width: 32px;\n",
              "    }\n",
              "\n",
              "    .colab-df-convert:hover {\n",
              "      background-color: #E2EBFA;\n",
              "      box-shadow: 0px 1px 2px rgba(60, 64, 67, 0.3), 0px 1px 3px 1px rgba(60, 64, 67, 0.15);\n",
              "      fill: #174EA6;\n",
              "    }\n",
              "\n",
              "    .colab-df-buttons div {\n",
              "      margin-bottom: 4px;\n",
              "    }\n",
              "\n",
              "    [theme=dark] .colab-df-convert {\n",
              "      background-color: #3B4455;\n",
              "      fill: #D2E3FC;\n",
              "    }\n",
              "\n",
              "    [theme=dark] .colab-df-convert:hover {\n",
              "      background-color: #434B5C;\n",
              "      box-shadow: 0px 1px 3px 1px rgba(0, 0, 0, 0.15);\n",
              "      filter: drop-shadow(0px 1px 2px rgba(0, 0, 0, 0.3));\n",
              "      fill: #FFFFFF;\n",
              "    }\n",
              "  </style>\n",
              "\n",
              "    <script>\n",
              "      const buttonEl =\n",
              "        document.querySelector('#df-45452416-4ff3-49c9-8255-2b4fb1e7d2e9 button.colab-df-convert');\n",
              "      buttonEl.style.display =\n",
              "        google.colab.kernel.accessAllowed ? 'block' : 'none';\n",
              "\n",
              "      async function convertToInteractive(key) {\n",
              "        const element = document.querySelector('#df-45452416-4ff3-49c9-8255-2b4fb1e7d2e9');\n",
              "        const dataTable =\n",
              "          await google.colab.kernel.invokeFunction('convertToInteractive',\n",
              "                                                    [key], {});\n",
              "        if (!dataTable) return;\n",
              "\n",
              "        const docLinkHtml = 'Like what you see? Visit the ' +\n",
              "          '<a target=\"_blank\" href=https://colab.research.google.com/notebooks/data_table.ipynb>data table notebook</a>'\n",
              "          + ' to learn more about interactive tables.';\n",
              "        element.innerHTML = '';\n",
              "        dataTable['output_type'] = 'display_data';\n",
              "        await google.colab.output.renderOutput(dataTable, element);\n",
              "        const docLink = document.createElement('div');\n",
              "        docLink.innerHTML = docLinkHtml;\n",
              "        element.appendChild(docLink);\n",
              "      }\n",
              "    </script>\n",
              "  </div>\n",
              "\n",
              "\n",
              "<div id=\"df-4c1e23bd-ae3c-4a99-b4eb-3a6a8d6964f4\">\n",
              "  <button class=\"colab-df-quickchart\" onclick=\"quickchart('df-4c1e23bd-ae3c-4a99-b4eb-3a6a8d6964f4')\"\n",
              "            title=\"Suggest charts.\"\n",
              "            style=\"display:none;\">\n",
              "\n",
              "<svg xmlns=\"http://www.w3.org/2000/svg\" height=\"24px\"viewBox=\"0 0 24 24\"\n",
              "     width=\"24px\">\n",
              "    <g>\n",
              "        <path d=\"M19 3H5c-1.1 0-2 .9-2 2v14c0 1.1.9 2 2 2h14c1.1 0 2-.9 2-2V5c0-1.1-.9-2-2-2zM9 17H7v-7h2v7zm4 0h-2V7h2v10zm4 0h-2v-4h2v4z\"/>\n",
              "    </g>\n",
              "</svg>\n",
              "  </button>\n",
              "\n",
              "<style>\n",
              "  .colab-df-quickchart {\n",
              "      --bg-color: #E8F0FE;\n",
              "      --fill-color: #1967D2;\n",
              "      --hover-bg-color: #E2EBFA;\n",
              "      --hover-fill-color: #174EA6;\n",
              "      --disabled-fill-color: #AAA;\n",
              "      --disabled-bg-color: #DDD;\n",
              "  }\n",
              "\n",
              "  [theme=dark] .colab-df-quickchart {\n",
              "      --bg-color: #3B4455;\n",
              "      --fill-color: #D2E3FC;\n",
              "      --hover-bg-color: #434B5C;\n",
              "      --hover-fill-color: #FFFFFF;\n",
              "      --disabled-bg-color: #3B4455;\n",
              "      --disabled-fill-color: #666;\n",
              "  }\n",
              "\n",
              "  .colab-df-quickchart {\n",
              "    background-color: var(--bg-color);\n",
              "    border: none;\n",
              "    border-radius: 50%;\n",
              "    cursor: pointer;\n",
              "    display: none;\n",
              "    fill: var(--fill-color);\n",
              "    height: 32px;\n",
              "    padding: 0;\n",
              "    width: 32px;\n",
              "  }\n",
              "\n",
              "  .colab-df-quickchart:hover {\n",
              "    background-color: var(--hover-bg-color);\n",
              "    box-shadow: 0 1px 2px rgba(60, 64, 67, 0.3), 0 1px 3px 1px rgba(60, 64, 67, 0.15);\n",
              "    fill: var(--button-hover-fill-color);\n",
              "  }\n",
              "\n",
              "  .colab-df-quickchart-complete:disabled,\n",
              "  .colab-df-quickchart-complete:disabled:hover {\n",
              "    background-color: var(--disabled-bg-color);\n",
              "    fill: var(--disabled-fill-color);\n",
              "    box-shadow: none;\n",
              "  }\n",
              "\n",
              "  .colab-df-spinner {\n",
              "    border: 2px solid var(--fill-color);\n",
              "    border-color: transparent;\n",
              "    border-bottom-color: var(--fill-color);\n",
              "    animation:\n",
              "      spin 1s steps(1) infinite;\n",
              "  }\n",
              "\n",
              "  @keyframes spin {\n",
              "    0% {\n",
              "      border-color: transparent;\n",
              "      border-bottom-color: var(--fill-color);\n",
              "      border-left-color: var(--fill-color);\n",
              "    }\n",
              "    20% {\n",
              "      border-color: transparent;\n",
              "      border-left-color: var(--fill-color);\n",
              "      border-top-color: var(--fill-color);\n",
              "    }\n",
              "    30% {\n",
              "      border-color: transparent;\n",
              "      border-left-color: var(--fill-color);\n",
              "      border-top-color: var(--fill-color);\n",
              "      border-right-color: var(--fill-color);\n",
              "    }\n",
              "    40% {\n",
              "      border-color: transparent;\n",
              "      border-right-color: var(--fill-color);\n",
              "      border-top-color: var(--fill-color);\n",
              "    }\n",
              "    60% {\n",
              "      border-color: transparent;\n",
              "      border-right-color: var(--fill-color);\n",
              "    }\n",
              "    80% {\n",
              "      border-color: transparent;\n",
              "      border-right-color: var(--fill-color);\n",
              "      border-bottom-color: var(--fill-color);\n",
              "    }\n",
              "    90% {\n",
              "      border-color: transparent;\n",
              "      border-bottom-color: var(--fill-color);\n",
              "    }\n",
              "  }\n",
              "</style>\n",
              "\n",
              "  <script>\n",
              "    async function quickchart(key) {\n",
              "      const quickchartButtonEl =\n",
              "        document.querySelector('#' + key + ' button');\n",
              "      quickchartButtonEl.disabled = true;  // To prevent multiple clicks.\n",
              "      quickchartButtonEl.classList.add('colab-df-spinner');\n",
              "      try {\n",
              "        const charts = await google.colab.kernel.invokeFunction(\n",
              "            'suggestCharts', [key], {});\n",
              "      } catch (error) {\n",
              "        console.error('Error during call to suggestCharts:', error);\n",
              "      }\n",
              "      quickchartButtonEl.classList.remove('colab-df-spinner');\n",
              "      quickchartButtonEl.classList.add('colab-df-quickchart-complete');\n",
              "    }\n",
              "    (() => {\n",
              "      let quickchartButtonEl =\n",
              "        document.querySelector('#df-4c1e23bd-ae3c-4a99-b4eb-3a6a8d6964f4 button');\n",
              "      quickchartButtonEl.style.display =\n",
              "        google.colab.kernel.accessAllowed ? 'block' : 'none';\n",
              "    })();\n",
              "  </script>\n",
              "</div>\n",
              "    </div>\n",
              "  </div>\n"
            ]
          },
          "metadata": {},
          "execution_count": 8
        }
      ],
      "source": [
        "dados.corr().round(2)"
      ]
    },
    {
      "cell_type": "markdown",
      "metadata": {
        "id": "QqdqqT8IyhQ-"
      },
      "source": [
        "# <font color='red' style='font-size: 30px;'>Comportamento da Variável Dependente (Y)</font>\n",
        "<hr style='border: 2px solid red;'>"
      ]
    },
    {
      "cell_type": "markdown",
      "metadata": {
        "id": "vztxj84vyhQ_"
      },
      "source": [
        "# Análises gráficas"
      ]
    },
    {
      "cell_type": "markdown",
      "metadata": {
        "id": "Kghc9Ak7yhQ_"
      },
      "source": [
        "## Plotando a variável *dependente* (y)\n",
        "https://pandas.pydata.org/pandas-docs/stable/visualization.html"
      ]
    },
    {
      "cell_type": "code",
      "execution_count": 15,
      "metadata": {
        "colab": {
          "base_uri": "https://localhost:8080/",
          "height": 584
        },
        "id": "reMXZnxmyhQ_",
        "outputId": "fa6648f1-acf0-4d29-f641-303b3cf1b57c"
      },
      "outputs": [
        {
          "output_type": "display_data",
          "data": {
            "text/plain": [
              "<Figure size 2000x600 with 1 Axes>"
            ],
            "image/png": "[encoded data removed]"
          },
          "metadata": {}
        }
      ],
      "source": [
        "import matplotlib.pyplot as plt\n",
        "import seaborn as sns\n",
        "\n",
        "fig, ax = plt.subplots(figsize = (20,6))\n",
        "ax.set_title('Consumo de cerveja')\n",
        "ax.set_xlabel('Dias')\n",
        "ax.set_ylabel('Consumo')\n",
        "ax = dados['consumo'].plot()"
      ]
    },
    {
      "cell_type": "markdown",
      "metadata": {
        "id": "unuWySzQyhQ_"
      },
      "source": [
        "# <font color='red' style='font-size: 30px;'>Box Plot</font>\n",
        "<hr style='border: 2px solid red;'>"
      ]
    },
    {
      "cell_type": "markdown",
      "metadata": {
        "id": "RvNEsEeeyhQ_"
      },
      "source": [
        "<img width='700px' src='../Dados/img/Box-Plot.png'>"
      ]
    },
    {
      "cell_type": "markdown",
      "metadata": {
        "id": "fNxdgSfMyhQ_"
      },
      "source": [
        "## Importando biblioteca seaborn\n",
        "https://seaborn.pydata.org/\n",
        "<p style='font-size: 18px; line-height: 2; margin: 10px 50px; text-align: justify;'>O Seaborn é uma biblioteca Python de visualização de dados baseada no matplotlib. Ela fornece uma interface de alto nível para desenhar gráficos estatísticos.</p>"
      ]
    },
    {
      "cell_type": "code",
      "execution_count": 21,
      "metadata": {
        "colab": {
          "base_uri": "https://localhost:8080/",
          "height": 466
        },
        "id": "PyZoUKCUyhQ_",
        "outputId": "b91cc231-8eaf-478a-edce-9d30b760e418"
      },
      "outputs": [
        {
          "output_type": "execute_result",
          "data": {
            "text/plain": [
              "<Axes: xlabel='fds', ylabel='consumo'>"
            ]
          },
          "metadata": {},
          "execution_count": 21
        },
        {
          "output_type": "display_data",
          "data": {
            "text/plain": [
              "<Figure size 640x480 with 1 Axes>"
            ],
            "image/png": "[encoded data removed]"
          },
          "metadata": {}
        }
      ],
      "source": [
        "sns.boxplot(data= dados, y='consumo', x = 'fds')"
      ]
    },
    {
      "cell_type": "markdown",
      "metadata": {
        "id": "5hJ6AhsfyhQ_"
      },
      "source": [
        "## Box plot da variável *dependente* (y)"
      ]
    },
    {
      "cell_type": "markdown",
      "metadata": {
        "id": "hQPAUY-9yhQ_"
      },
      "source": [
        "https://seaborn.pydata.org/generated/seaborn.boxplot.html?highlight=boxplot#seaborn.boxplot"
      ]
    },
    {
      "cell_type": "code",
      "execution_count": null,
      "metadata": {
        "id": "dIYnigELyhQ_"
      },
      "outputs": [],
      "source": []
    },
    {
      "cell_type": "markdown",
      "metadata": {
        "id": "cWPmq1QjyhQ_"
      },
      "source": [
        "# <font color='red' style='font-size: 30px;'>Box Plot com Duas Variáveis</font>\n",
        "<hr style='border: 2px solid red;'>"
      ]
    },
    {
      "cell_type": "markdown",
      "metadata": {
        "id": "EPQhu4DGyhQ_"
      },
      "source": [
        "## Investigando a variável *dependente* (y) segundo determinada característica"
      ]
    },
    {
      "cell_type": "code",
      "execution_count": 22,
      "metadata": {
        "colab": {
          "base_uri": "https://localhost:8080/",
          "height": 595
        },
        "id": "wol26p_7yhQ_",
        "outputId": "82fdbb49-e017-440a-b932-6465cd4c2137"
      },
      "outputs": [
        {
          "output_type": "execute_result",
          "data": {
            "text/plain": [
              "<Axes: title={'center': 'Consumo de Cerveja'}, xlabel='Litros', ylabel='Final de Semana'>"
            ]
          },
          "metadata": {},
          "execution_count": 22
        },
        {
          "output_type": "display_data",
          "data": {
            "text/plain": [
              "<Figure size 1200x600 with 1 Axes>"
            ],
            "image/png": "[encoded data removed]"
          },
          "metadata": {}
        }
      ],
      "source": [
        "ax = sns.boxplot(y='fds', x='consumo', data=dados, orient='h', width=0.5)\n",
        "ax.figure.set_size_inches(12, 6)\n",
        "ax.set_title('Consumo de Cerveja', fontsize=20)\n",
        "ax.set_xlabel('Litros', fontsize=16)\n",
        "ax.set_ylabel('Final de Semana', fontsize=16)\n",
        "ax"
      ]
    },
    {
      "cell_type": "markdown",
      "metadata": {
        "id": "BNDVObK5yhRA"
      },
      "source": [
        "## Configurações de estilo e cor da biblioteca *seaborn*\n",
        "\n",
        "### Controle de estilo\n",
        "\n",
        "> ####  API\n",
        "> https://seaborn.pydata.org/api.html#style-api\n",
        "\n",
        "> #### Tutorial\n",
        "> https://seaborn.pydata.org/tutorial/aesthetics.html#aesthetics-tutorial\n",
        "\n",
        "### Paleta de cores\n",
        "\n",
        "> #### API\n",
        "> https://seaborn.pydata.org/api.html#palette-api\n",
        "\n",
        "> #### Tutorial\n",
        "> https://seaborn.pydata.org/tutorial/color_palettes.html#palette-tutorial"
      ]
    },
    {
      "cell_type": "code",
      "execution_count": 23,
      "metadata": {
        "id": "vCQTryCzyhRA"
      },
      "outputs": [],
      "source": [
        "sns.set_palette(\"Accent\")\n",
        "sns.set_style(\"darkgrid\")"
      ]
    },
    {
      "cell_type": "code",
      "execution_count": 24,
      "metadata": {
        "colab": {
          "base_uri": "https://localhost:8080/",
          "height": 595
        },
        "id": "0RAdFgbEyhRA",
        "outputId": "cdebe2ae-81b9-4f57-8bb2-731c044925fe"
      },
      "outputs": [
        {
          "output_type": "execute_result",
          "data": {
            "text/plain": [
              "<Axes: title={'center': 'Consumo de Cerveja'}, xlabel='Final de Semana', ylabel='Litros'>"
            ]
          },
          "metadata": {},
          "execution_count": 24
        },
        {
          "output_type": "display_data",
          "data": {
            "text/plain": [
              "<Figure size 1200x600 with 1 Axes>"
            ],
            "image/png": "[encoded data removed]"
          },
          "metadata": {}
        }
      ],
      "source": [
        "ax = sns.boxplot(y='consumo', x='fds', data=dados, orient='v', width=0.5)\n",
        "ax.figure.set_size_inches(12, 6)\n",
        "ax.set_title('Consumo de Cerveja', fontsize=20)\n",
        "ax.set_ylabel('Litros', fontsize=16)\n",
        "ax.set_xlabel('Final de Semana', fontsize=16)\n",
        "ax"
      ]
    },
    {
      "cell_type": "markdown",
      "metadata": {
        "id": "1ho5_IHNyhRA"
      },
      "source": [
        "# <font color='red' style='font-size: 30px;'>Distribuição de Frequências</font>\n",
        "<hr style='border: 2px solid red;'>"
      ]
    },
    {
      "cell_type": "markdown",
      "metadata": {
        "id": "7JheY-s9yhRA"
      },
      "source": [
        "## Distribuição de frequências da variável *dependente* (y)"
      ]
    },
    {
      "cell_type": "markdown",
      "metadata": {
        "id": "xz4tIwI6yhRA"
      },
      "source": [
        "https://seaborn.pydata.org/generated/seaborn.distplot.html?highlight=distplot#seaborn.distplot"
      ]
    },
    {
      "cell_type": "code",
      "execution_count": 27,
      "metadata": {
        "colab": {
          "base_uri": "https://localhost:8080/",
          "height": 591
        },
        "id": "qTfb6lDJyhRA",
        "outputId": "cb10eee5-286f-464c-c4b1-4d9235411e4d"
      },
      "outputs": [
        {
          "output_type": "execute_result",
          "data": {
            "text/plain": [
              "<Axes: title={'center': 'Distrubuição de Frequências'}, xlabel='consumo', ylabel='Consumo de Cerveja(Litros)'>"
            ]
          },
          "metadata": {},
          "execution_count": 27
        },
        {
          "output_type": "display_data",
          "data": {
            "text/plain": [
              "<Figure size 1200x600 with 1 Axes>"
            ],
            "image/png": "[encoded data removed]"
          },
          "metadata": {}
        }
      ],
      "source": [
        "ax = sns.histplot(dados['consumo'], kde = True)\n",
        "ax.figure.set_size_inches(12, 6)\n",
        "ax.set_title('Distrubuição de Frequências', fontsize=20)\n",
        "ax.set_ylabel('Consumo de Cerveja(Litros)', fontsize=16)\n",
        "ax"
      ]
    },
    {
      "cell_type": "markdown",
      "metadata": {
        "id": "2KkrbJjeyhRE"
      },
      "source": [
        "# <font color='red' style='font-size: 30px;'>Variável Dependente X Variáveis Explicativas (pairplot)</font>\n",
        "<hr style='border: 2px solid red;'>"
      ]
    },
    {
      "cell_type": "markdown",
      "metadata": {
        "id": "qCrBnK1ryhRE"
      },
      "source": [
        "## Gráficos de dispersão entre as variáveis do dataset"
      ]
    },
    {
      "cell_type": "markdown",
      "metadata": {
        "id": "CCPlJrRAyhRE"
      },
      "source": [
        "## seaborn.pairplot\n",
        "\n",
        "https://seaborn.pydata.org/generated/seaborn.pairplot.html?highlight=pairplot#seaborn.pairplot\n",
        "\n",
        "<p style='font-size: 18px; line-height: 2; margin: 10px 50px; text-align: justify;'>Plota o relacionamento entre pares de variáveis em um dataset.</p>"
      ]
    },
    {
      "cell_type": "code",
      "execution_count": null,
      "metadata": {
        "id": "lvVpnR0AyhRF"
      },
      "outputs": [],
      "source": []
    },
    {
      "cell_type": "markdown",
      "metadata": {
        "id": "ayowIxxoyhRF"
      },
      "source": [
        "## Plotando o pairplot fixando somente uma variável no eixo y"
      ]
    },
    {
      "cell_type": "code",
      "execution_count": null,
      "metadata": {
        "id": "J8uYVsV6yhRF"
      },
      "outputs": [],
      "source": []
    },
    {
      "cell_type": "code",
      "execution_count": null,
      "metadata": {
        "id": "RLPB0aJAyhRF"
      },
      "outputs": [],
      "source": []
    },
    {
      "cell_type": "markdown",
      "metadata": {
        "id": "iPiao9fYyhRF"
      },
      "source": [
        "# <font color='red' style='font-size: 30px;'>Variável Dependente X Variáveis Explicativas (jointplot)</font>\n",
        "<hr style='border: 2px solid red;'>"
      ]
    },
    {
      "cell_type": "markdown",
      "metadata": {
        "id": "ceOLl1M7yhRF"
      },
      "source": [
        "## seaborn.jointplot\n",
        "\n",
        "https://seaborn.pydata.org/generated/seaborn.jointplot.html?highlight=jointplot#seaborn.jointplot\n",
        "\n",
        "<p style='font-size: 18px; line-height: 2; margin: 10px 50px; text-align: justify;'>Plota o relacionamento entre duas variáveis e suas respectivas distribuições de frequência.</p>"
      ]
    },
    {
      "cell_type": "code",
      "execution_count": null,
      "metadata": {
        "id": "Krqnv3ouyhRF"
      },
      "outputs": [],
      "source": []
    },
    {
      "cell_type": "markdown",
      "metadata": {
        "id": "yoPV1GOtyhRG"
      },
      "source": [
        "## Plotando um jointplot com a reta de regressão estimada"
      ]
    },
    {
      "cell_type": "code",
      "execution_count": null,
      "metadata": {
        "id": "UB9jJiZ3yhRG"
      },
      "outputs": [],
      "source": []
    },
    {
      "cell_type": "markdown",
      "metadata": {
        "id": "DOgEXqVryhRG"
      },
      "source": [
        "# <font color='red' style='font-size: 30px;'>Variável Dependente X Variáveis Explicativas (lmplot)</font>\n",
        "<hr style='border: 2px solid red;'>"
      ]
    },
    {
      "cell_type": "markdown",
      "metadata": {
        "id": "2zsFkz3wyhRG"
      },
      "source": [
        "## seaborn.lmplot\n",
        "\n",
        "https://seaborn.pydata.org/generated/seaborn.lmplot.html?highlight=lmplot#seaborn.lmplot\n",
        "\n",
        "<p style='font-size: 18px; line-height: 2; margin: 10px 50px; text-align: justify;'>Plota a reta de regressão entre duas variáveis juntamente com a dispersão entre elas.</p>"
      ]
    },
    {
      "cell_type": "code",
      "execution_count": null,
      "metadata": {
        "id": "kuHVD3-6yhRG"
      },
      "outputs": [],
      "source": []
    },
    {
      "cell_type": "markdown",
      "metadata": {
        "id": "OD9L3vDcyhRG"
      },
      "source": [
        "## Plotando um lmplot utilizando uma terceira variável na análise (tipo I)"
      ]
    },
    {
      "cell_type": "code",
      "execution_count": null,
      "metadata": {
        "id": "4Zr8JGlIyhRG"
      },
      "outputs": [],
      "source": []
    },
    {
      "cell_type": "markdown",
      "metadata": {
        "id": "BGephH3EyhRG"
      },
      "source": [
        "## Plotando um lmplot utilizando uma terceira variável na análise (tipo II)"
      ]
    },
    {
      "cell_type": "code",
      "execution_count": null,
      "metadata": {
        "scrolled": false,
        "id": "S8E0JO_RyhRH"
      },
      "outputs": [],
      "source": []
    },
    {
      "cell_type": "markdown",
      "metadata": {
        "id": "ZAljgMjPyhRH"
      },
      "source": [
        "# <font color='red' style='font-size: 30px;'>Estimando um Modelo de Regressão Linear para o Consumo</font>\n",
        "<hr style='border: 2px solid red;'>"
      ]
    },
    {
      "cell_type": "markdown",
      "metadata": {
        "id": "ziErcZXFyhRH"
      },
      "source": [
        "# Regresão Linear\n",
        "<hr>\n",
        "\n",
        "<p style='font-size: 20px; line-height: 2; margin: 10px 50px; text-align: justify;'>A análise de regressão diz respeito ao estudo da dependência de uma variável (a variável <b>dependente</b>) em relação a uma ou mais variáveis, as variáveis explanatórias, visando estimar e/ou prever o valor médio da primeira em termos dos valores conhecidos ou fixados das segundas.</p>\n",
        "\n",
        "\n",
        "## scikit-learn (https://scikit-learn.org/stable/)\n",
        "\n",
        "<p style='font-size: 20px; line-height: 2; margin: 10px 50px; text-align: justify;'>O *scikit-learn* é um módulo Python especializado em soluções para *machine learning*.</p>\n",
        "\n"
      ]
    },
    {
      "cell_type": "markdown",
      "metadata": {
        "id": "jfv8m_RAyhRH"
      },
      "source": [
        "## Importando o *train_test_split* da biblioteca *scikit-learn*\n",
        "\n",
        "https://scikit-learn.org/stable/modules/generated/sklearn.model_selection.train_test_split.html"
      ]
    },
    {
      "cell_type": "code",
      "execution_count": null,
      "metadata": {
        "id": "El03wzt5yhRH"
      },
      "outputs": [],
      "source": []
    },
    {
      "cell_type": "markdown",
      "metadata": {
        "id": "i23mfuC6yhRH"
      },
      "source": [
        "## Criando uma Series (pandas) para armazenar o Consumo de Cerveja (y)"
      ]
    },
    {
      "cell_type": "code",
      "execution_count": null,
      "metadata": {
        "id": "J1n-nfIayhRK"
      },
      "outputs": [],
      "source": []
    },
    {
      "cell_type": "markdown",
      "metadata": {
        "id": "6EvQSYMmyhRK"
      },
      "source": [
        "## Criando um DataFrame (pandas) para armazenar as variáveis explicativas (X)"
      ]
    },
    {
      "cell_type": "code",
      "execution_count": null,
      "metadata": {
        "id": "p5Ot65cdyhRK"
      },
      "outputs": [],
      "source": []
    },
    {
      "cell_type": "markdown",
      "metadata": {
        "id": "BOP8VVRNyhRK"
      },
      "source": [
        "## Criando os datasets de treino e de teste"
      ]
    },
    {
      "cell_type": "code",
      "execution_count": null,
      "metadata": {
        "id": "8lzjsf_6yhRK"
      },
      "outputs": [],
      "source": []
    },
    {
      "cell_type": "markdown",
      "metadata": {
        "id": "c0KVVF8xyhRK"
      },
      "source": [
        "## Verificando os tamanhos dos arquivos gerados pela função *train_test_split*"
      ]
    },
    {
      "cell_type": "code",
      "execution_count": null,
      "metadata": {
        "id": "OYyfrqbuyhRK"
      },
      "outputs": [],
      "source": []
    },
    {
      "cell_type": "code",
      "execution_count": null,
      "metadata": {
        "id": "t14wj6rByhRK"
      },
      "outputs": [],
      "source": []
    },
    {
      "cell_type": "code",
      "execution_count": null,
      "metadata": {
        "id": "EAcYPvjvyhRL"
      },
      "outputs": [],
      "source": []
    },
    {
      "cell_type": "code",
      "execution_count": null,
      "metadata": {
        "id": "9j1wzfjkyhRL"
      },
      "outputs": [],
      "source": []
    },
    {
      "cell_type": "code",
      "execution_count": null,
      "metadata": {
        "id": "AD2u--J2yhRL"
      },
      "outputs": [],
      "source": []
    },
    {
      "cell_type": "markdown",
      "metadata": {
        "id": "RYeF2yVRyhRL"
      },
      "source": [
        "<img width='600px' src='../Dados/img/reg_01.jpg'>"
      ]
    },
    {
      "cell_type": "markdown",
      "metadata": {
        "id": "ZSg1y4TMyhRL"
      },
      "source": [
        "## Importando *LinearRegression* e *metrics* da biblioteca *scikit-learn*\n",
        "\n",
        "https://scikit-learn.org/stable/modules/generated/sklearn.linear_model.LinearRegression.html\n",
        "\n",
        "https://scikit-learn.org/stable/modules/classes.html#regression-metrics"
      ]
    },
    {
      "cell_type": "code",
      "execution_count": null,
      "metadata": {
        "id": "ThkUxoNlyhRL"
      },
      "outputs": [],
      "source": []
    },
    {
      "cell_type": "markdown",
      "metadata": {
        "id": "Dn7rB-wZyhRL"
      },
      "source": [
        "## Instanciando a classe *LinearRegression()*"
      ]
    },
    {
      "cell_type": "code",
      "execution_count": null,
      "metadata": {
        "id": "pfTR3WQdyhRL"
      },
      "outputs": [],
      "source": []
    },
    {
      "cell_type": "markdown",
      "metadata": {
        "id": "ZgGiByEEyhRL"
      },
      "source": [
        "## Utilizando o método *fit()* do objeto \"modelo\" para estimar nosso modelo linear utilizando os dados de TREINO (y_train e X_train)\n",
        "\n",
        "https://scikit-learn.org/stable/modules/generated/sklearn.linear_model.LinearRegression.html#sklearn.linear_model.LinearRegression.fit"
      ]
    },
    {
      "cell_type": "code",
      "execution_count": null,
      "metadata": {
        "id": "USNNn3jfyhRL"
      },
      "outputs": [],
      "source": []
    },
    {
      "cell_type": "markdown",
      "metadata": {
        "id": "D2OVcrb0yhRL"
      },
      "source": [
        "## Obtendo o coeficiente de determinação (R²) do modelo estimado com os dados de TREINO\n",
        "\n",
        "https://scikit-learn.org/stable/modules/generated/sklearn.linear_model.LinearRegression.html#sklearn.linear_model.LinearRegression.score\n",
        "\n",
        "### Coeficiente de Determinação - R²\n",
        "\n",
        "O coeficiente de determinação (R²) é uma medida resumida que diz quanto a linha de regressão ajusta-se aos dados. É um valor entra 0 e 1.\n",
        "\n",
        "$$R^2(y, \\hat{y}) = 1 - \\frac {\\sum_{i=0}^{n-1}(y_i-\\hat{y}_i)^2}{\\sum_{i=0}^{n-1}(y_i-\\bar{y}_i)^2}$$"
      ]
    },
    {
      "cell_type": "code",
      "execution_count": null,
      "metadata": {
        "id": "vXiD6pq8yhRL"
      },
      "outputs": [],
      "source": []
    },
    {
      "cell_type": "markdown",
      "metadata": {
        "id": "agKsqK4XyhRL"
      },
      "source": [
        "## Gerando previsões para os dados de TESTE (X_test) utilizando o método *predict()* do objeto \"modelo\"\n",
        "\n",
        "https://scikit-learn.org/stable/modules/generated/sklearn.linear_model.LinearRegression.html#sklearn.linear_model.LinearRegression.predict"
      ]
    },
    {
      "cell_type": "code",
      "execution_count": null,
      "metadata": {
        "id": "5A-8K6GxyhRL"
      },
      "outputs": [],
      "source": []
    },
    {
      "cell_type": "markdown",
      "metadata": {
        "id": "Oh34QXwGyhRM"
      },
      "source": [
        "## Obtendo o coeficiente de determinação (R²) para as previsões do nosso modelo\n",
        "\n",
        "https://scikit-learn.org/stable/modules/generated/sklearn.metrics.r2_score.html#sklearn.metrics.r2_score"
      ]
    },
    {
      "cell_type": "code",
      "execution_count": null,
      "metadata": {
        "id": "ilfiPhs7yhRM"
      },
      "outputs": [],
      "source": []
    },
    {
      "cell_type": "markdown",
      "metadata": {
        "id": "hoC9a9DqyhRM"
      },
      "source": [
        "# <font color='red' style='font-size: 30px;'>Obtendo Previsões Pontuais</font>\n",
        "<hr style='border: 2px solid red;'>"
      ]
    },
    {
      "cell_type": "markdown",
      "metadata": {
        "id": "fy5hujGbyhRM"
      },
      "source": [
        "## Dados de entrada"
      ]
    },
    {
      "cell_type": "code",
      "execution_count": null,
      "metadata": {
        "id": "mDXwUPpWyhRM"
      },
      "outputs": [],
      "source": []
    },
    {
      "cell_type": "markdown",
      "metadata": {
        "id": "VvFvxAH7yhRM"
      },
      "source": [
        "## Gerando previsão pontual"
      ]
    },
    {
      "cell_type": "code",
      "execution_count": null,
      "metadata": {
        "id": "dnwb2vnLyhRM"
      },
      "outputs": [],
      "source": []
    },
    {
      "cell_type": "markdown",
      "metadata": {
        "id": "aPgwg7vKyhRM"
      },
      "source": [
        "## Criando um simulador simples"
      ]
    },
    {
      "cell_type": "code",
      "execution_count": null,
      "metadata": {
        "id": "mIv1vkuZyhRM"
      },
      "outputs": [],
      "source": []
    },
    {
      "cell_type": "markdown",
      "metadata": {
        "id": "DjlELh6cyhRM"
      },
      "source": [
        "# <font color='red' style='font-size: 30px;'>Interpretação dos Coeficientes Estimados</font>\n",
        "<hr style='border: 2px solid red;'>"
      ]
    },
    {
      "cell_type": "markdown",
      "metadata": {
        "id": "HFxKu--1yhRM"
      },
      "source": [
        "<img width='600px' src='../Dados/img/reg_02.jpg'>"
      ]
    },
    {
      "cell_type": "markdown",
      "metadata": {
        "id": "Cnd4zb2NyhRM"
      },
      "source": [
        "## Obtendo o intercepto do modelo\n",
        "\n",
        "<p style='font-size: 20px; line-height: 2; margin: 10px 50px; text-align: justify;'>O <b>intercepto</b> representa o efeito médio em $Y$ (Consumo de Cerveja) tendo todas as variáveis explicativas excluídas do modelo. De forma mais simples, o <b>intercepto</b> representa o efeito médio em $Y$ (Consumo de Cerveja) quando $X_2$ (Temperatura Máxima), $X_3$ (Chuva) e $X_4$ (Final de Semana) são iguais a zero.</p>"
      ]
    },
    {
      "cell_type": "code",
      "execution_count": null,
      "metadata": {
        "id": "vdYDjqrfyhRM"
      },
      "outputs": [],
      "source": []
    },
    {
      "cell_type": "code",
      "execution_count": null,
      "metadata": {
        "id": "4vV14ilFyhRM"
      },
      "outputs": [],
      "source": []
    },
    {
      "cell_type": "markdown",
      "metadata": {
        "id": "lZ8CHiAmyhRN"
      },
      "source": [
        "## Obtendo os coeficientes de regressão\n",
        "\n",
        "<p style='font-size: 20px; line-height: 2; margin: 10px 50px; text-align: justify;'>Os <b>coeficientes de regressão</b> $\\beta_2$, $\\beta_3$ e $\\beta_4$ são conhecidos como <b>coeficientes parciais de regressão</b> ou <b>coeficientes parciais angulares</b>. Considerando o número de variáveis explicativas de nosso modelo, seu significado seria o seguinte: $\\beta_2$ mede a variação no valor médio de $Y$ (Consumo de Cerveja), por unidade de variação em $X_2$ (Temperatura Máxima), mantendo-se os valores de $X_3$ (Chuva) e $X_4$ (Final de Semana) constantes. Em outras palavras, ele nos dá o efeito \"direto\" ou \"líquido\" de uma unidade de variação em $X_2$ sobre o valor médio de $Y$, excluídos os efeitos que $X_3$ e $X_4$ possam ter sobre a média de $Y$. De modo análogo podemos interpretar os demais coeficientes de regressão.</p>"
      ]
    },
    {
      "cell_type": "code",
      "execution_count": null,
      "metadata": {
        "id": "qnBjW0KIyhRN"
      },
      "outputs": [],
      "source": []
    },
    {
      "cell_type": "code",
      "execution_count": null,
      "metadata": {
        "id": "caTExyMIyhRN"
      },
      "outputs": [],
      "source": []
    },
    {
      "cell_type": "markdown",
      "metadata": {
        "id": "kZ73tsMmyhRN"
      },
      "source": [
        "## Confirmando a ordem das variáveis explicativas no DataFrame"
      ]
    },
    {
      "cell_type": "code",
      "execution_count": null,
      "metadata": {
        "id": "N4XUfm7SyhRN"
      },
      "outputs": [],
      "source": []
    },
    {
      "cell_type": "markdown",
      "metadata": {
        "id": "9te8eGpPyhRN"
      },
      "source": [
        "## Criando uma lista com os nomes das variáveis do modelo"
      ]
    },
    {
      "cell_type": "code",
      "execution_count": null,
      "metadata": {
        "id": "vl2gvOTmyhRN"
      },
      "outputs": [],
      "source": []
    },
    {
      "cell_type": "markdown",
      "metadata": {
        "id": "iIcTyxTwyhRN"
      },
      "source": [
        "## Criando um DataFrame para armazenar os coeficientes do modelo\n",
        "\n",
        "https://docs.scipy.org/doc/numpy/reference/generated/numpy.append.html?#numpy.append"
      ]
    },
    {
      "cell_type": "code",
      "execution_count": null,
      "metadata": {
        "scrolled": true,
        "id": "EN6tOEjryhRN"
      },
      "outputs": [],
      "source": []
    },
    {
      "cell_type": "markdown",
      "metadata": {
        "id": "v4jGhrt9yhRN"
      },
      "source": [
        "## Interpretação dos Coeficientes Estimados\n",
        "\n",
        "<p style='font-size: 20px; line-height: 2; margin: 10px 50px; text-align: justify;'>\n",
        "<b>Intercepto</b> → Excluindo o efeito das variáveis explicativas ($X_2=X_3=X_4=0$) o efeito médio no Consumo de Cerveja seria de <b>5951,98 litros</b>.\n",
        "</p>\n",
        "\n",
        "<p style='font-size: 20px; line-height: 2; margin: 10px 50px; text-align: justify;'>\n",
        "<b>Temperatura Máxima (°C)</b> → Mantendo-se os valores de $X_3$ (Chuva) e $X_4$ (Final de Semana) constantes, o acréscimo de 1°C na Temperatura Máxima gera uma variação média no Consumo de Cerveja de <b>684,74 litros</b>.\n",
        "</p>\n",
        "\n",
        "<p style='font-size: 20px; line-height: 2; margin: 10px 50px; text-align: justify;'>\n",
        "<b>Chuva (mm)</b> → Mantendo-se os valores de $X_2$ (Temperatura Máxima) e $X_4$ (Final de Semana) constantes, o acréscimo de 1mm de Chuva gera uma variação média no Consumo de Cerveja de <b>-60,78 litros</b>.\n",
        "</p>\n",
        "\n",
        "<p style='font-size: 20px; line-height: 2; margin: 10px 50px; text-align: justify;'>\n",
        "<b>Final de Semana (Sim/Não)</b> → Mantendo-se os valores de $X_2$ (Temperatura Máxima) e $X_3$ (Chuva) constantes, o fato de o dia ser classificado como Final de Semana gera uma variação média no Consumo de Cerveja de <b>5401,08 litros</b>.\n",
        "</p>"
      ]
    },
    {
      "cell_type": "markdown",
      "metadata": {
        "id": "KYNODdxvyhRN"
      },
      "source": [
        "# <font color='red' style='font-size: 30px;'>Análises Gráficas das Previsões do Modelo</font>\n",
        "<hr style='border: 2px solid red;'>"
      ]
    },
    {
      "cell_type": "markdown",
      "metadata": {
        "id": "gAfWGbkvyhRO"
      },
      "source": [
        "## Gerando as previsões do modelo para os dados de TREINO"
      ]
    },
    {
      "cell_type": "code",
      "execution_count": null,
      "metadata": {
        "id": "b9t6SKhTyhRO"
      },
      "outputs": [],
      "source": []
    },
    {
      "cell_type": "markdown",
      "metadata": {
        "id": "6CixDr_DyhRO"
      },
      "source": [
        "## Gráfico de dispersão entre valor estimado e valor real\n",
        "\n",
        "https://seaborn.pydata.org/generated/seaborn.scatterplot.html"
      ]
    },
    {
      "cell_type": "code",
      "execution_count": null,
      "metadata": {
        "id": "U1h9ge-syhRO"
      },
      "outputs": [],
      "source": []
    },
    {
      "cell_type": "markdown",
      "metadata": {
        "id": "OBEw_dGWyhRO"
      },
      "source": [
        "## Obtendo os resíduos"
      ]
    },
    {
      "cell_type": "code",
      "execution_count": null,
      "metadata": {
        "id": "KWj3l_kOyhRO"
      },
      "outputs": [],
      "source": []
    },
    {
      "cell_type": "markdown",
      "metadata": {
        "id": "dgYhpWHQyhRO"
      },
      "source": [
        "## Gráfico de dispersão entre valor estimado e resíduos\n",
        "\n",
        "Método informal de verificação da hipótese de variância constante dos resíduos (homocedasticidade)"
      ]
    },
    {
      "cell_type": "code",
      "execution_count": null,
      "metadata": {
        "id": "qouw4u_PyhRO"
      },
      "outputs": [],
      "source": []
    },
    {
      "cell_type": "markdown",
      "metadata": {
        "id": "9zAWTGoqyhRO"
      },
      "source": [
        "## Utilizando os resíduos ao quadrado"
      ]
    },
    {
      "cell_type": "markdown",
      "metadata": {
        "id": "pybb7Z4fyhRO"
      },
      "source": [
        "<img width='800px' src='../Dados/img/var_u.jpg'>\n",
        "Fonte: Econometria Básica - 5ª edição - Gujarati e Porter"
      ]
    },
    {
      "cell_type": "code",
      "execution_count": null,
      "metadata": {
        "id": "Hf5_A670yhRO"
      },
      "outputs": [],
      "source": []
    },
    {
      "cell_type": "markdown",
      "metadata": {
        "id": "1tgK2WXMyhRO"
      },
      "source": [
        "## Plotando a distribuição de frequências dos resíduos"
      ]
    },
    {
      "cell_type": "code",
      "execution_count": null,
      "metadata": {
        "id": "M51XkQPgyhRO"
      },
      "outputs": [],
      "source": []
    },
    {
      "cell_type": "markdown",
      "metadata": {
        "id": "qbb5u2shyhRO"
      },
      "source": [
        "# <font color='red' style='font-size: 30px;'>Comparando Modelos</font>\n",
        "<hr style='border: 2px solid red;'>"
      ]
    },
    {
      "cell_type": "markdown",
      "metadata": {
        "id": "fXrI4ew5yhRO"
      },
      "source": [
        "## Estimando um novo modelo com a substituição da variável explicativa Temperatura Máxima pela Temperatuda Média"
      ]
    },
    {
      "cell_type": "code",
      "execution_count": null,
      "metadata": {
        "id": "WQHhWCdkyhRP"
      },
      "outputs": [],
      "source": []
    },
    {
      "cell_type": "markdown",
      "metadata": {
        "id": "xyJJ-SxSyhRP"
      },
      "source": [
        "## Criando os datasets de treino e de teste"
      ]
    },
    {
      "cell_type": "code",
      "execution_count": null,
      "metadata": {
        "id": "AzoHMHd9yhRP"
      },
      "outputs": [],
      "source": []
    },
    {
      "cell_type": "markdown",
      "metadata": {
        "id": "rMrqu78eyhRP"
      },
      "source": [
        "## Instanciando a classe *LinearRegression()*"
      ]
    },
    {
      "cell_type": "code",
      "execution_count": null,
      "metadata": {
        "id": "qgo_fIF9yhRP"
      },
      "outputs": [],
      "source": []
    },
    {
      "cell_type": "markdown",
      "metadata": {
        "id": "9AxbhJHWyhRP"
      },
      "source": [
        "## Utilizando o método *fit()* do objeto \"modelo_2\" para estimar nosso modelo linear utilizando os dados de TREINO (y2_train e X2_train)"
      ]
    },
    {
      "cell_type": "code",
      "execution_count": null,
      "metadata": {
        "id": "-dW2zrF6yhRP"
      },
      "outputs": [],
      "source": []
    },
    {
      "cell_type": "markdown",
      "metadata": {
        "id": "gbpSnN4DyhRP"
      },
      "source": [
        "## Obtendo o coeficiente de determinação (R²) do novo modelo estimado e comparando com o resultado do modelo anterior"
      ]
    },
    {
      "cell_type": "code",
      "execution_count": null,
      "metadata": {
        "id": "MQeLh6tCyhRP"
      },
      "outputs": [],
      "source": []
    },
    {
      "cell_type": "code",
      "execution_count": null,
      "metadata": {
        "id": "QakatFvxyhRP"
      },
      "outputs": [],
      "source": []
    },
    {
      "cell_type": "markdown",
      "metadata": {
        "id": "WpY5eqj4yhRP"
      },
      "source": [
        "## Gerando previsões para os dados de TESTE (X_test e X2_test) utilizando o método *predict()* dos objetos \"modelo\" e \"modelo_2\""
      ]
    },
    {
      "cell_type": "code",
      "execution_count": null,
      "metadata": {
        "id": "HQC_T_FoyhRP"
      },
      "outputs": [],
      "source": []
    },
    {
      "cell_type": "markdown",
      "metadata": {
        "id": "e8ZRcO_XyhRP"
      },
      "source": [
        "## Obtendo o coeficiente de determinação (R²) para as previsões dos dois modelos"
      ]
    },
    {
      "cell_type": "code",
      "execution_count": null,
      "metadata": {
        "id": "yGo_JKzDyhRP"
      },
      "outputs": [],
      "source": []
    },
    {
      "cell_type": "code",
      "execution_count": null,
      "metadata": {
        "id": "caOMvonVyhRQ"
      },
      "outputs": [],
      "source": []
    },
    {
      "cell_type": "markdown",
      "metadata": {
        "id": "gJIWB6mgyhRQ"
      },
      "source": [
        "# <font color='red' style='font-size: 30px;'>Outras Métricas de Regressão</font>\n",
        "<hr style='border: 2px solid red;'>"
      ]
    },
    {
      "cell_type": "markdown",
      "metadata": {
        "id": "G7mqSdhnyhRQ"
      },
      "source": [
        "## Métricas da regressão\n",
        "<hr>\n",
        "\n",
        "fonte: https://scikit-learn.org/stable/modules/model_evaluation.html#regression-metrics\n",
        "\n",
        "Algumas estatísticas obtidas do modelo de regressão são muito úteis como critério de comparação entre modelos estimados e de seleção do melhor modelo, as principais métricas de regressão que o scikit-learn disponibiliza para modelos lineares são as seguintes:\n",
        "\n",
        "### Erro Quadrático Médio\n",
        "\n",
        "Média dos quadrados dos erros. Ajustes melhores apresentam $EQM$ mais baixo.\n",
        "\n",
        "$$EQM(y, \\hat{y}) = \\frac 1n\\sum_{i=0}^{n-1}(y_i-\\hat{y}_i)^2$$\n",
        "\n",
        "### Raíz do Erro Quadrático Médio\n",
        "\n",
        "Raíz quadrada da média dos quadrados dos erros. Ajustes melhores apresentam $\\sqrt{EQM}$ mais baixo.\n",
        "\n",
        "$$\\sqrt{EQM(y, \\hat{y})} = \\sqrt{\\frac 1n\\sum_{i=0}^{n-1}(y_i-\\hat{y}_i)^2}$$\n",
        "\n"
      ]
    },
    {
      "cell_type": "markdown",
      "metadata": {
        "id": "FHtKLhHwyhRQ"
      },
      "source": [
        "## Obtendo métricas para o modelo com Temperatura Média"
      ]
    },
    {
      "cell_type": "code",
      "execution_count": null,
      "metadata": {
        "id": "l6bXJcBmyhRQ"
      },
      "outputs": [],
      "source": []
    },
    {
      "cell_type": "markdown",
      "metadata": {
        "id": "FLIo_DioyhRQ"
      },
      "source": [
        "## Obtendo métricas para o modelo com Temperatura Máxima"
      ]
    },
    {
      "cell_type": "code",
      "execution_count": null,
      "metadata": {
        "id": "SeJiOPdqyhRQ"
      },
      "outputs": [],
      "source": []
    },
    {
      "cell_type": "markdown",
      "metadata": {
        "id": "LPzRSnsayhRQ"
      },
      "source": [
        "# <font color='red' style='font-size: 30px;'>Salvando e Carregando o Modelo Estimado</font>\n",
        "<hr style='border: 2px solid red;'>"
      ]
    },
    {
      "cell_type": "markdown",
      "metadata": {
        "id": "myjobNiLyhRQ"
      },
      "source": [
        "## Dados de entrada"
      ]
    },
    {
      "cell_type": "code",
      "execution_count": null,
      "metadata": {
        "id": "OLK2ou94yhRQ"
      },
      "outputs": [],
      "source": []
    },
    {
      "cell_type": "code",
      "execution_count": null,
      "metadata": {
        "id": "eIahSKwgyhRR"
      },
      "outputs": [],
      "source": []
    },
    {
      "cell_type": "markdown",
      "metadata": {
        "id": "Z9PSihXQyhRR"
      },
      "source": [
        "## Gerando previsão pontual"
      ]
    },
    {
      "cell_type": "code",
      "execution_count": null,
      "metadata": {
        "id": "5dduKZZKyhRR"
      },
      "outputs": [],
      "source": []
    },
    {
      "cell_type": "markdown",
      "metadata": {
        "id": "NmVf8ZChyhRR"
      },
      "source": [
        "## Criando um simulador simples"
      ]
    },
    {
      "cell_type": "code",
      "execution_count": null,
      "metadata": {
        "id": "40dponLryhRR"
      },
      "outputs": [],
      "source": []
    },
    {
      "cell_type": "markdown",
      "metadata": {
        "id": "q0NMruVPyhRR"
      },
      "source": [
        "## Salvando o modelo estimado"
      ]
    },
    {
      "cell_type": "markdown",
      "metadata": {
        "id": "bg-i0sYVyhRR"
      },
      "source": [
        "## pickle (https://docs.python.org/3/library/pickle.html)\n",
        "\n",
        "<p style='font-size: 20px; line-height: 2; margin: 10px 50px; text-align: justify;'>O módulo <b>pickle</b> implementa protocolos binários para serializar e desserializar a estrutura de um objeto Python.</p>"
      ]
    },
    {
      "cell_type": "code",
      "execution_count": null,
      "metadata": {
        "id": "gYRwcc4QyhRR"
      },
      "outputs": [],
      "source": []
    },
    {
      "cell_type": "code",
      "execution_count": null,
      "metadata": {
        "id": "r3BZHUX0yhRR"
      },
      "outputs": [],
      "source": []
    },
    {
      "cell_type": "markdown",
      "metadata": {
        "id": "ENigCzH6yhRR"
      },
      "source": [
        "### Em um novo notebook/projeto Python\n",
        "\n",
        "<h4 style='color: blue; font-weight: normal'>In [1]:</h4>\n",
        "\n",
        "```sh\n",
        "import pickle\n",
        "\n",
        "modelo = open('modelo_consumo_cerveja','rb')\n",
        "lm_new = pickle.load(modelo)\n",
        "modelo.close()\n",
        "\n",
        "temp_max = 30.5\n",
        "chuva = 12.2\n",
        "fds = 0\n",
        "entrada = [[temp_max, chuva, fds]]\n",
        "print('{0:.2f} litros'.format(lm_new.predict(entrada)[0]))\n",
        "```\n",
        "\n",
        "<h4 style='color: red; font-weight: normal'>Out [1]:</h4>\n",
        "\n",
        "```\n",
        "26094.90 litros\n",
        "```"
      ]
    },
    {
      "cell_type": "code",
      "execution_count": null,
      "metadata": {
        "id": "leoUZZ2oyhRR"
      },
      "outputs": [],
      "source": []
    }
  ],
  "metadata": {
    "kernelspec": {
      "display_name": "Python 3",
      "language": "python",
      "name": "python3"
    },
    "language_info": {
      "codemirror_mode": {
        "name": "ipython",
        "version": 3
      },
      "file_extension": ".py",
      "mimetype": "text/x-python",
      "name": "python",
      "nbconvert_exporter": "python",
      "pygments_lexer": "ipython3",
      "version": "3.6.5"
    },
    "colab": {
      "provenance": [],
      "include_colab_link": true
    }
  },
  "nbformat": 4,
  "nbformat_minor": 0
}